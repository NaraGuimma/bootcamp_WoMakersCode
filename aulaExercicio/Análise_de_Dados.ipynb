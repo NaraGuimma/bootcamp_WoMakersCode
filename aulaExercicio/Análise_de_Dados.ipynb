{
  "nbformat": 4,
  "nbformat_minor": 0,
  "metadata": {
    "colab": {
      "name": "Análise_de_Dados.ipynb",
      "provenance": [],
      "collapsed_sections": []
    },
    "kernelspec": {
      "name": "python3",
      "display_name": "Python 3"
    },
    "language_info": {
      "name": "python"
    }
  },
  "cells": [
    {
      "cell_type": "markdown",
      "source": [
        "# **Frequência e Medidas - Aula de exercícios**"
      ],
      "metadata": {
        "id": "nDCMq6wUUpwK"
      }
    },
    {
      "cell_type": "code",
      "source": [
        "# importação de pacotes\n",
        "import pandas as pd\n",
        "import numpy as np\n",
        "import pandas as pd\n",
        "import matplotlib as mpl\n",
        "import matplotlib.pyplot as plt\n",
        "import seaborn as sns\n",
        "import statistics\n",
        "import warnings\n",
        "warnings.filterwarnings(\"ignore\")"
      ],
      "metadata": {
        "id": "XvOYPsnCXAJ7"
      },
      "execution_count": 1,
      "outputs": []
    },
    {
      "cell_type": "markdown",
      "source": [
        "Os dados utilizado nesse script foram baixados do kaggle, e podem ser acessados através do link: https://www.kaggle.com/sanjeetsinghnaik/top-1000-highest-grossing-movies\n",
        "\n",
        "\n",
        "Primeiro, vamos ler os dados. \n",
        "\n",
        "Esse dataset contém informações sobre os 1000 filmes de Holywood com maior bilheteria.\n",
        "\n",
        "Variáveis:\n",
        "*   ***Title*** - título do filme\n",
        "*   ***Movie Info*** - descrição do filme\n",
        "*   ***Distributor*** - distribuidora do filme\n",
        "*   ***Release Date*** - data de lançamento\n",
        "*   ***Domestic Sales*** - quantidade de bilheteria vendida nacionalmente\n",
        "*   ***International Sales*** - quantidade de bilheteria vendida internacionalmente\n",
        "*   ***World Sales*** - quantidade de bilheteria vendida mundialmente\n",
        "*   ***Genre*** - gênero do filme\n",
        "*   ***Movie Runtime*** - duração do filme\n",
        "*   ***License*** - licença do filme\n",
        "\n",
        "Como os dados são arquivos em .csv vamos utilizar a função read_csv do pandas.\n"
      ],
      "metadata": {
        "id": "rOu1W0F_VwId"
      }
    },
    {
      "cell_type": "code",
      "source": [
        "# lendo a base de dados\n",
        "data = pd.read_csv(\"Highest Holywood Grossing Movies.csv\")"
      ],
      "metadata": {
        "id": "jVM3qqL3W7oN"
      },
      "execution_count": 2,
      "outputs": []
    },
    {
      "cell_type": "markdown",
      "source": [
        "## **Qual o seu tipo de dado?**"
      ],
      "metadata": {
        "id": "kJvTIcM_UtE5"
      }
    },
    {
      "cell_type": "code",
      "source": [
        "# verificando as primeiras colunas da base de dados\n",
        "data.head()"
      ],
      "metadata": {
        "colab": {
          "base_uri": "https://localhost:8080/",
          "height": 406
        },
        "id": "awyIGzcnX5F7",
        "outputId": "2ad3685f-8ce0-4587-bd01-0648f2433b0e"
      },
      "execution_count": 3,
      "outputs": [
        {
          "output_type": "execute_result",
          "data": {
            "text/html": [
              "\n",
              "  <div id=\"df-ea05a8ec-216b-4d24-83bc-79ca163bf894\">\n",
              "    <div class=\"colab-df-container\">\n",
              "      <div>\n",
              "<style scoped>\n",
              "    .dataframe tbody tr th:only-of-type {\n",
              "        vertical-align: middle;\n",
              "    }\n",
              "\n",
              "    .dataframe tbody tr th {\n",
              "        vertical-align: top;\n",
              "    }\n",
              "\n",
              "    .dataframe thead th {\n",
              "        text-align: right;\n",
              "    }\n",
              "</style>\n",
              "<table border=\"1\" class=\"dataframe\">\n",
              "  <thead>\n",
              "    <tr style=\"text-align: right;\">\n",
              "      <th></th>\n",
              "      <th>Unnamed: 0</th>\n",
              "      <th>Title</th>\n",
              "      <th>Movie Info</th>\n",
              "      <th>Distributor</th>\n",
              "      <th>Release Date</th>\n",
              "      <th>Domestic Sales (in $)</th>\n",
              "      <th>International Sales (in $)</th>\n",
              "      <th>World Sales (in $)</th>\n",
              "      <th>Genre</th>\n",
              "      <th>Movie Runtime</th>\n",
              "      <th>License</th>\n",
              "    </tr>\n",
              "  </thead>\n",
              "  <tbody>\n",
              "    <tr>\n",
              "      <th>0</th>\n",
              "      <td>0</td>\n",
              "      <td>Star Wars: Episode VII - The Force Awakens (2015)</td>\n",
              "      <td>As a new threat to the galaxy rises, Rey, a de...</td>\n",
              "      <td>Walt Disney Studios Motion Pictures</td>\n",
              "      <td>December 16, 2015</td>\n",
              "      <td>936662225</td>\n",
              "      <td>1132859475</td>\n",
              "      <td>2069521700</td>\n",
              "      <td>['Action', 'Adventure', 'Sci-Fi']</td>\n",
              "      <td>2 hr 18 min</td>\n",
              "      <td>PG-13</td>\n",
              "    </tr>\n",
              "    <tr>\n",
              "      <th>1</th>\n",
              "      <td>1</td>\n",
              "      <td>Avengers: Endgame (2019)</td>\n",
              "      <td>After the devastating events of Avengers: Infi...</td>\n",
              "      <td>Walt Disney Studios Motion Pictures</td>\n",
              "      <td>April 24, 2019</td>\n",
              "      <td>858373000</td>\n",
              "      <td>1939128328</td>\n",
              "      <td>2797501328</td>\n",
              "      <td>['Action', 'Adventure', 'Drama', 'Sci-Fi']</td>\n",
              "      <td>3 hr 1 min</td>\n",
              "      <td>PG-13</td>\n",
              "    </tr>\n",
              "    <tr>\n",
              "      <th>2</th>\n",
              "      <td>2</td>\n",
              "      <td>Avatar (2009)</td>\n",
              "      <td>A paraplegic Marine dispatched to the moon Pan...</td>\n",
              "      <td>Twentieth Century Fox</td>\n",
              "      <td>December 16, 2009</td>\n",
              "      <td>760507625</td>\n",
              "      <td>2086738578</td>\n",
              "      <td>2847246203</td>\n",
              "      <td>['Action', 'Adventure', 'Fantasy', 'Sci-Fi']</td>\n",
              "      <td>2 hr 42 min</td>\n",
              "      <td>PG-13</td>\n",
              "    </tr>\n",
              "    <tr>\n",
              "      <th>3</th>\n",
              "      <td>3</td>\n",
              "      <td>Black Panther (2018)</td>\n",
              "      <td>T'Challa, heir to the hidden but advanced king...</td>\n",
              "      <td>Walt Disney Studios Motion Pictures</td>\n",
              "      <td>NaN</td>\n",
              "      <td>700426566</td>\n",
              "      <td>647171407</td>\n",
              "      <td>1347597973</td>\n",
              "      <td>['Action', 'Adventure', 'Sci-Fi']</td>\n",
              "      <td>2 hr 14 min</td>\n",
              "      <td>NaN</td>\n",
              "    </tr>\n",
              "    <tr>\n",
              "      <th>4</th>\n",
              "      <td>4</td>\n",
              "      <td>Avengers: Infinity War (2018)</td>\n",
              "      <td>The Avengers and their allies must be willing ...</td>\n",
              "      <td>Walt Disney Studios Motion Pictures</td>\n",
              "      <td>NaN</td>\n",
              "      <td>678815482</td>\n",
              "      <td>1369544272</td>\n",
              "      <td>2048359754</td>\n",
              "      <td>['Action', 'Adventure', 'Sci-Fi']</td>\n",
              "      <td>2 hr 29 min</td>\n",
              "      <td>NaN</td>\n",
              "    </tr>\n",
              "  </tbody>\n",
              "</table>\n",
              "</div>\n",
              "      <button class=\"colab-df-convert\" onclick=\"convertToInteractive('df-ea05a8ec-216b-4d24-83bc-79ca163bf894')\"\n",
              "              title=\"Convert this dataframe to an interactive table.\"\n",
              "              style=\"display:none;\">\n",
              "        \n",
              "  <svg xmlns=\"http://www.w3.org/2000/svg\" height=\"24px\"viewBox=\"0 0 24 24\"\n",
              "       width=\"24px\">\n",
              "    <path d=\"M0 0h24v24H0V0z\" fill=\"none\"/>\n",
              "    <path d=\"M18.56 5.44l.94 2.06.94-2.06 2.06-.94-2.06-.94-.94-2.06-.94 2.06-2.06.94zm-11 1L8.5 8.5l.94-2.06 2.06-.94-2.06-.94L8.5 2.5l-.94 2.06-2.06.94zm10 10l.94 2.06.94-2.06 2.06-.94-2.06-.94-.94-2.06-.94 2.06-2.06.94z\"/><path d=\"M17.41 7.96l-1.37-1.37c-.4-.4-.92-.59-1.43-.59-.52 0-1.04.2-1.43.59L10.3 9.45l-7.72 7.72c-.78.78-.78 2.05 0 2.83L4 21.41c.39.39.9.59 1.41.59.51 0 1.02-.2 1.41-.59l7.78-7.78 2.81-2.81c.8-.78.8-2.07 0-2.86zM5.41 20L4 18.59l7.72-7.72 1.47 1.35L5.41 20z\"/>\n",
              "  </svg>\n",
              "      </button>\n",
              "      \n",
              "  <style>\n",
              "    .colab-df-container {\n",
              "      display:flex;\n",
              "      flex-wrap:wrap;\n",
              "      gap: 12px;\n",
              "    }\n",
              "\n",
              "    .colab-df-convert {\n",
              "      background-color: #E8F0FE;\n",
              "      border: none;\n",
              "      border-radius: 50%;\n",
              "      cursor: pointer;\n",
              "      display: none;\n",
              "      fill: #1967D2;\n",
              "      height: 32px;\n",
              "      padding: 0 0 0 0;\n",
              "      width: 32px;\n",
              "    }\n",
              "\n",
              "    .colab-df-convert:hover {\n",
              "      background-color: #E2EBFA;\n",
              "      box-shadow: 0px 1px 2px rgba(60, 64, 67, 0.3), 0px 1px 3px 1px rgba(60, 64, 67, 0.15);\n",
              "      fill: #174EA6;\n",
              "    }\n",
              "\n",
              "    [theme=dark] .colab-df-convert {\n",
              "      background-color: #3B4455;\n",
              "      fill: #D2E3FC;\n",
              "    }\n",
              "\n",
              "    [theme=dark] .colab-df-convert:hover {\n",
              "      background-color: #434B5C;\n",
              "      box-shadow: 0px 1px 3px 1px rgba(0, 0, 0, 0.15);\n",
              "      filter: drop-shadow(0px 1px 2px rgba(0, 0, 0, 0.3));\n",
              "      fill: #FFFFFF;\n",
              "    }\n",
              "  </style>\n",
              "\n",
              "      <script>\n",
              "        const buttonEl =\n",
              "          document.querySelector('#df-ea05a8ec-216b-4d24-83bc-79ca163bf894 button.colab-df-convert');\n",
              "        buttonEl.style.display =\n",
              "          google.colab.kernel.accessAllowed ? 'block' : 'none';\n",
              "\n",
              "        async function convertToInteractive(key) {\n",
              "          const element = document.querySelector('#df-ea05a8ec-216b-4d24-83bc-79ca163bf894');\n",
              "          const dataTable =\n",
              "            await google.colab.kernel.invokeFunction('convertToInteractive',\n",
              "                                                     [key], {});\n",
              "          if (!dataTable) return;\n",
              "\n",
              "          const docLinkHtml = 'Like what you see? Visit the ' +\n",
              "            '<a target=\"_blank\" href=https://colab.research.google.com/notebooks/data_table.ipynb>data table notebook</a>'\n",
              "            + ' to learn more about interactive tables.';\n",
              "          element.innerHTML = '';\n",
              "          dataTable['output_type'] = 'display_data';\n",
              "          await google.colab.output.renderOutput(dataTable, element);\n",
              "          const docLink = document.createElement('div');\n",
              "          docLink.innerHTML = docLinkHtml;\n",
              "          element.appendChild(docLink);\n",
              "        }\n",
              "      </script>\n",
              "    </div>\n",
              "  </div>\n",
              "  "
            ],
            "text/plain": [
              "   Unnamed: 0  ... License\n",
              "0           0  ...   PG-13\n",
              "1           1  ...   PG-13\n",
              "2           2  ...   PG-13\n",
              "3           3  ...     NaN\n",
              "4           4  ...     NaN\n",
              "\n",
              "[5 rows x 11 columns]"
            ]
          },
          "metadata": {},
          "execution_count": 3
        }
      ]
    },
    {
      "cell_type": "code",
      "source": [
        "# podemos ver que a coluna \"Unnamed: 0\" é desnecessária, então podemos excluí-la\n",
        "data.drop('Unnamed: 0', axis = 1, inplace = True)"
      ],
      "metadata": {
        "id": "ybdypSCnajQ9"
      },
      "execution_count": 4,
      "outputs": []
    },
    {
      "cell_type": "code",
      "source": [
        "# vamos verificar agora o nome das colunas que restaram\n",
        "data.columns"
      ],
      "metadata": {
        "colab": {
          "base_uri": "https://localhost:8080/"
        },
        "id": "DrhmKGKgayPM",
        "outputId": "9827ecde-bb78-4d27-8660-60baadf29f01"
      },
      "execution_count": 5,
      "outputs": [
        {
          "output_type": "execute_result",
          "data": {
            "text/plain": [
              "Index(['Title', 'Movie Info', 'Distributor', 'Release Date',\n",
              "       'Domestic Sales (in $)', 'International Sales (in $)',\n",
              "       'World Sales (in $)', 'Genre', 'Movie Runtime', 'License'],\n",
              "      dtype='object')"
            ]
          },
          "metadata": {},
          "execution_count": 5
        }
      ]
    },
    {
      "cell_type": "code",
      "source": [
        "# verificando a dimensão da base de dados\n",
        "data.shape"
      ],
      "metadata": {
        "colab": {
          "base_uri": "https://localhost:8080/"
        },
        "id": "USLDqhSiX5RA",
        "outputId": "7b7a53d7-4c67-4a81-a85d-1d2b1b392e72"
      },
      "execution_count": 6,
      "outputs": [
        {
          "output_type": "execute_result",
          "data": {
            "text/plain": [
              "(918, 10)"
            ]
          },
          "metadata": {},
          "execution_count": 6
        }
      ]
    },
    {
      "cell_type": "code",
      "source": [
        "# verificando o tipo das colunas\n",
        "data.dtypes"
      ],
      "metadata": {
        "colab": {
          "base_uri": "https://localhost:8080/"
        },
        "id": "6SGSGFiuZBJQ",
        "outputId": "bbc93e37-4e01-419a-fb69-1dfd624c1e31"
      },
      "execution_count": 7,
      "outputs": [
        {
          "output_type": "execute_result",
          "data": {
            "text/plain": [
              "Title                         object\n",
              "Movie Info                    object\n",
              "Distributor                   object\n",
              "Release Date                  object\n",
              "Domestic Sales (in $)          int64\n",
              "International Sales (in $)     int64\n",
              "World Sales (in $)             int64\n",
              "Genre                         object\n",
              "Movie Runtime                 object\n",
              "License                       object\n",
              "dtype: object"
            ]
          },
          "metadata": {},
          "execution_count": 7
        }
      ]
    },
    {
      "cell_type": "code",
      "source": [
        "# queremos mudar a coluna \"Movie Runtime\" para valores numéricos de hora \n",
        "runtime = data['Movie Runtime'].str.split(expand=True).iloc[:,[0,2]]\n",
        "runtime[2].fillna(0, inplace=True)\n",
        "runtime = runtime.astype('int64')\n",
        "runtime['hour'] = runtime[0] + runtime[2]/60\n",
        "data['Movie Runtime'] = runtime['hour']"
      ],
      "metadata": {
        "id": "awCkzI5SZZMT"
      },
      "execution_count": 8,
      "outputs": []
    },
    {
      "cell_type": "code",
      "source": [
        "# verificando o resultado\n",
        "data['Movie Runtime']"
      ],
      "metadata": {
        "colab": {
          "base_uri": "https://localhost:8080/"
        },
        "id": "i2CjSVfJbnYm",
        "outputId": "9ab9fa87-2143-4dfe-9fce-c3a1552e4ded"
      },
      "execution_count": 9,
      "outputs": [
        {
          "output_type": "execute_result",
          "data": {
            "text/plain": [
              "0      2.300000\n",
              "1      3.016667\n",
              "2      2.700000\n",
              "3      2.233333\n",
              "4      2.483333\n",
              "         ...   \n",
              "913    2.050000\n",
              "914    1.366667\n",
              "915    2.216667\n",
              "916    1.633333\n",
              "917    1.700000\n",
              "Name: Movie Runtime, Length: 918, dtype: float64"
            ]
          },
          "metadata": {},
          "execution_count": 9
        }
      ]
    },
    {
      "cell_type": "code",
      "source": [
        "# queremos mudar o tipo da variável Release Date para Datetime\n",
        "data['Release Date'] = pd.to_datetime( data['Release Date'])"
      ],
      "metadata": {
        "id": "RxsuTH_Fb1Sz"
      },
      "execution_count": 10,
      "outputs": []
    },
    {
      "cell_type": "code",
      "source": [
        "# queremos transformar o valor arrecadado pra milhões de dólares, com o intuito de uma melhor visualização dos valores\n",
        "data[['Domestic Sales (in $)','International Sales (in $)','World Sales (in $)']]= data[['Domestic Sales (in $)',\n",
        "                                            'International Sales (in $)','World Sales (in $)']].apply(lambda x: x/(10**6))"
      ],
      "metadata": {
        "id": "ZJxaNeVZlfmG"
      },
      "execution_count": 11,
      "outputs": []
    },
    {
      "cell_type": "code",
      "source": [
        "# vamos verificar somente essas colunas\n",
        "data[['Domestic Sales (in $)','International Sales (in $)','World Sales (in $)']].head()"
      ],
      "metadata": {
        "colab": {
          "base_uri": "https://localhost:8080/",
          "height": 206
        },
        "id": "DmtGzno5mDdb",
        "outputId": "6d2a37a0-6215-42f4-f33d-d486fb389284"
      },
      "execution_count": 12,
      "outputs": [
        {
          "output_type": "execute_result",
          "data": {
            "text/html": [
              "\n",
              "  <div id=\"df-169b4009-aabd-4f74-9c19-59063756901d\">\n",
              "    <div class=\"colab-df-container\">\n",
              "      <div>\n",
              "<style scoped>\n",
              "    .dataframe tbody tr th:only-of-type {\n",
              "        vertical-align: middle;\n",
              "    }\n",
              "\n",
              "    .dataframe tbody tr th {\n",
              "        vertical-align: top;\n",
              "    }\n",
              "\n",
              "    .dataframe thead th {\n",
              "        text-align: right;\n",
              "    }\n",
              "</style>\n",
              "<table border=\"1\" class=\"dataframe\">\n",
              "  <thead>\n",
              "    <tr style=\"text-align: right;\">\n",
              "      <th></th>\n",
              "      <th>Domestic Sales (in $)</th>\n",
              "      <th>International Sales (in $)</th>\n",
              "      <th>World Sales (in $)</th>\n",
              "    </tr>\n",
              "  </thead>\n",
              "  <tbody>\n",
              "    <tr>\n",
              "      <th>0</th>\n",
              "      <td>936.662225</td>\n",
              "      <td>1132.859475</td>\n",
              "      <td>2069.521700</td>\n",
              "    </tr>\n",
              "    <tr>\n",
              "      <th>1</th>\n",
              "      <td>858.373000</td>\n",
              "      <td>1939.128328</td>\n",
              "      <td>2797.501328</td>\n",
              "    </tr>\n",
              "    <tr>\n",
              "      <th>2</th>\n",
              "      <td>760.507625</td>\n",
              "      <td>2086.738578</td>\n",
              "      <td>2847.246203</td>\n",
              "    </tr>\n",
              "    <tr>\n",
              "      <th>3</th>\n",
              "      <td>700.426566</td>\n",
              "      <td>647.171407</td>\n",
              "      <td>1347.597973</td>\n",
              "    </tr>\n",
              "    <tr>\n",
              "      <th>4</th>\n",
              "      <td>678.815482</td>\n",
              "      <td>1369.544272</td>\n",
              "      <td>2048.359754</td>\n",
              "    </tr>\n",
              "  </tbody>\n",
              "</table>\n",
              "</div>\n",
              "      <button class=\"colab-df-convert\" onclick=\"convertToInteractive('df-169b4009-aabd-4f74-9c19-59063756901d')\"\n",
              "              title=\"Convert this dataframe to an interactive table.\"\n",
              "              style=\"display:none;\">\n",
              "        \n",
              "  <svg xmlns=\"http://www.w3.org/2000/svg\" height=\"24px\"viewBox=\"0 0 24 24\"\n",
              "       width=\"24px\">\n",
              "    <path d=\"M0 0h24v24H0V0z\" fill=\"none\"/>\n",
              "    <path d=\"M18.56 5.44l.94 2.06.94-2.06 2.06-.94-2.06-.94-.94-2.06-.94 2.06-2.06.94zm-11 1L8.5 8.5l.94-2.06 2.06-.94-2.06-.94L8.5 2.5l-.94 2.06-2.06.94zm10 10l.94 2.06.94-2.06 2.06-.94-2.06-.94-.94-2.06-.94 2.06-2.06.94z\"/><path d=\"M17.41 7.96l-1.37-1.37c-.4-.4-.92-.59-1.43-.59-.52 0-1.04.2-1.43.59L10.3 9.45l-7.72 7.72c-.78.78-.78 2.05 0 2.83L4 21.41c.39.39.9.59 1.41.59.51 0 1.02-.2 1.41-.59l7.78-7.78 2.81-2.81c.8-.78.8-2.07 0-2.86zM5.41 20L4 18.59l7.72-7.72 1.47 1.35L5.41 20z\"/>\n",
              "  </svg>\n",
              "      </button>\n",
              "      \n",
              "  <style>\n",
              "    .colab-df-container {\n",
              "      display:flex;\n",
              "      flex-wrap:wrap;\n",
              "      gap: 12px;\n",
              "    }\n",
              "\n",
              "    .colab-df-convert {\n",
              "      background-color: #E8F0FE;\n",
              "      border: none;\n",
              "      border-radius: 50%;\n",
              "      cursor: pointer;\n",
              "      display: none;\n",
              "      fill: #1967D2;\n",
              "      height: 32px;\n",
              "      padding: 0 0 0 0;\n",
              "      width: 32px;\n",
              "    }\n",
              "\n",
              "    .colab-df-convert:hover {\n",
              "      background-color: #E2EBFA;\n",
              "      box-shadow: 0px 1px 2px rgba(60, 64, 67, 0.3), 0px 1px 3px 1px rgba(60, 64, 67, 0.15);\n",
              "      fill: #174EA6;\n",
              "    }\n",
              "\n",
              "    [theme=dark] .colab-df-convert {\n",
              "      background-color: #3B4455;\n",
              "      fill: #D2E3FC;\n",
              "    }\n",
              "\n",
              "    [theme=dark] .colab-df-convert:hover {\n",
              "      background-color: #434B5C;\n",
              "      box-shadow: 0px 1px 3px 1px rgba(0, 0, 0, 0.15);\n",
              "      filter: drop-shadow(0px 1px 2px rgba(0, 0, 0, 0.3));\n",
              "      fill: #FFFFFF;\n",
              "    }\n",
              "  </style>\n",
              "\n",
              "      <script>\n",
              "        const buttonEl =\n",
              "          document.querySelector('#df-169b4009-aabd-4f74-9c19-59063756901d button.colab-df-convert');\n",
              "        buttonEl.style.display =\n",
              "          google.colab.kernel.accessAllowed ? 'block' : 'none';\n",
              "\n",
              "        async function convertToInteractive(key) {\n",
              "          const element = document.querySelector('#df-169b4009-aabd-4f74-9c19-59063756901d');\n",
              "          const dataTable =\n",
              "            await google.colab.kernel.invokeFunction('convertToInteractive',\n",
              "                                                     [key], {});\n",
              "          if (!dataTable) return;\n",
              "\n",
              "          const docLinkHtml = 'Like what you see? Visit the ' +\n",
              "            '<a target=\"_blank\" href=https://colab.research.google.com/notebooks/data_table.ipynb>data table notebook</a>'\n",
              "            + ' to learn more about interactive tables.';\n",
              "          element.innerHTML = '';\n",
              "          dataTable['output_type'] = 'display_data';\n",
              "          await google.colab.output.renderOutput(dataTable, element);\n",
              "          const docLink = document.createElement('div');\n",
              "          docLink.innerHTML = docLinkHtml;\n",
              "          element.appendChild(docLink);\n",
              "        }\n",
              "      </script>\n",
              "    </div>\n",
              "  </div>\n",
              "  "
            ],
            "text/plain": [
              "   Domestic Sales (in $)  International Sales (in $)  World Sales (in $)\n",
              "0             936.662225                 1132.859475         2069.521700\n",
              "1             858.373000                 1939.128328         2797.501328\n",
              "2             760.507625                 2086.738578         2847.246203\n",
              "3             700.426566                  647.171407         1347.597973\n",
              "4             678.815482                 1369.544272         2048.359754"
            ]
          },
          "metadata": {},
          "execution_count": 12
        }
      ]
    },
    {
      "cell_type": "code",
      "source": [
        "# verificando novamente o tipo das colunas\n",
        "data.info()"
      ],
      "metadata": {
        "colab": {
          "base_uri": "https://localhost:8080/"
        },
        "id": "6BZh10xDcB-y",
        "outputId": "6070266b-c837-44fa-dfa2-cfbfcb74c58a"
      },
      "execution_count": 13,
      "outputs": [
        {
          "output_type": "stream",
          "name": "stdout",
          "text": [
            "<class 'pandas.core.frame.DataFrame'>\n",
            "RangeIndex: 918 entries, 0 to 917\n",
            "Data columns (total 10 columns):\n",
            " #   Column                      Non-Null Count  Dtype         \n",
            "---  ------                      --------------  -----         \n",
            " 0   Title                       918 non-null    object        \n",
            " 1   Movie Info                  918 non-null    object        \n",
            " 2   Distributor                 918 non-null    object        \n",
            " 3   Release Date                800 non-null    datetime64[ns]\n",
            " 4   Domestic Sales (in $)       918 non-null    float64       \n",
            " 5   International Sales (in $)  918 non-null    float64       \n",
            " 6   World Sales (in $)          918 non-null    float64       \n",
            " 7   Genre                       918 non-null    object        \n",
            " 8   Movie Runtime               918 non-null    float64       \n",
            " 9   License                     744 non-null    object        \n",
            "dtypes: datetime64[ns](1), float64(4), object(5)\n",
            "memory usage: 71.8+ KB\n"
          ]
        }
      ]
    },
    {
      "cell_type": "code",
      "source": [
        "data.head()"
      ],
      "metadata": {
        "id": "kEDZOLSV0Zkv",
        "outputId": "3655ee2c-b576-48fe-df5d-9b49f9caa100",
        "colab": {
          "base_uri": "https://localhost:8080/",
          "height": 372
        }
      },
      "execution_count": 14,
      "outputs": [
        {
          "output_type": "execute_result",
          "data": {
            "text/html": [
              "\n",
              "  <div id=\"df-014ef8fb-d334-4f65-982a-b807b193fbe9\">\n",
              "    <div class=\"colab-df-container\">\n",
              "      <div>\n",
              "<style scoped>\n",
              "    .dataframe tbody tr th:only-of-type {\n",
              "        vertical-align: middle;\n",
              "    }\n",
              "\n",
              "    .dataframe tbody tr th {\n",
              "        vertical-align: top;\n",
              "    }\n",
              "\n",
              "    .dataframe thead th {\n",
              "        text-align: right;\n",
              "    }\n",
              "</style>\n",
              "<table border=\"1\" class=\"dataframe\">\n",
              "  <thead>\n",
              "    <tr style=\"text-align: right;\">\n",
              "      <th></th>\n",
              "      <th>Title</th>\n",
              "      <th>Movie Info</th>\n",
              "      <th>Distributor</th>\n",
              "      <th>Release Date</th>\n",
              "      <th>Domestic Sales (in $)</th>\n",
              "      <th>International Sales (in $)</th>\n",
              "      <th>World Sales (in $)</th>\n",
              "      <th>Genre</th>\n",
              "      <th>Movie Runtime</th>\n",
              "      <th>License</th>\n",
              "    </tr>\n",
              "  </thead>\n",
              "  <tbody>\n",
              "    <tr>\n",
              "      <th>0</th>\n",
              "      <td>Star Wars: Episode VII - The Force Awakens (2015)</td>\n",
              "      <td>As a new threat to the galaxy rises, Rey, a de...</td>\n",
              "      <td>Walt Disney Studios Motion Pictures</td>\n",
              "      <td>2015-12-16</td>\n",
              "      <td>936.662225</td>\n",
              "      <td>1132.859475</td>\n",
              "      <td>2069.521700</td>\n",
              "      <td>['Action', 'Adventure', 'Sci-Fi']</td>\n",
              "      <td>2.300000</td>\n",
              "      <td>PG-13</td>\n",
              "    </tr>\n",
              "    <tr>\n",
              "      <th>1</th>\n",
              "      <td>Avengers: Endgame (2019)</td>\n",
              "      <td>After the devastating events of Avengers: Infi...</td>\n",
              "      <td>Walt Disney Studios Motion Pictures</td>\n",
              "      <td>2019-04-24</td>\n",
              "      <td>858.373000</td>\n",
              "      <td>1939.128328</td>\n",
              "      <td>2797.501328</td>\n",
              "      <td>['Action', 'Adventure', 'Drama', 'Sci-Fi']</td>\n",
              "      <td>3.016667</td>\n",
              "      <td>PG-13</td>\n",
              "    </tr>\n",
              "    <tr>\n",
              "      <th>2</th>\n",
              "      <td>Avatar (2009)</td>\n",
              "      <td>A paraplegic Marine dispatched to the moon Pan...</td>\n",
              "      <td>Twentieth Century Fox</td>\n",
              "      <td>2009-12-16</td>\n",
              "      <td>760.507625</td>\n",
              "      <td>2086.738578</td>\n",
              "      <td>2847.246203</td>\n",
              "      <td>['Action', 'Adventure', 'Fantasy', 'Sci-Fi']</td>\n",
              "      <td>2.700000</td>\n",
              "      <td>PG-13</td>\n",
              "    </tr>\n",
              "    <tr>\n",
              "      <th>3</th>\n",
              "      <td>Black Panther (2018)</td>\n",
              "      <td>T'Challa, heir to the hidden but advanced king...</td>\n",
              "      <td>Walt Disney Studios Motion Pictures</td>\n",
              "      <td>NaT</td>\n",
              "      <td>700.426566</td>\n",
              "      <td>647.171407</td>\n",
              "      <td>1347.597973</td>\n",
              "      <td>['Action', 'Adventure', 'Sci-Fi']</td>\n",
              "      <td>2.233333</td>\n",
              "      <td>NaN</td>\n",
              "    </tr>\n",
              "    <tr>\n",
              "      <th>4</th>\n",
              "      <td>Avengers: Infinity War (2018)</td>\n",
              "      <td>The Avengers and their allies must be willing ...</td>\n",
              "      <td>Walt Disney Studios Motion Pictures</td>\n",
              "      <td>NaT</td>\n",
              "      <td>678.815482</td>\n",
              "      <td>1369.544272</td>\n",
              "      <td>2048.359754</td>\n",
              "      <td>['Action', 'Adventure', 'Sci-Fi']</td>\n",
              "      <td>2.483333</td>\n",
              "      <td>NaN</td>\n",
              "    </tr>\n",
              "  </tbody>\n",
              "</table>\n",
              "</div>\n",
              "      <button class=\"colab-df-convert\" onclick=\"convertToInteractive('df-014ef8fb-d334-4f65-982a-b807b193fbe9')\"\n",
              "              title=\"Convert this dataframe to an interactive table.\"\n",
              "              style=\"display:none;\">\n",
              "        \n",
              "  <svg xmlns=\"http://www.w3.org/2000/svg\" height=\"24px\"viewBox=\"0 0 24 24\"\n",
              "       width=\"24px\">\n",
              "    <path d=\"M0 0h24v24H0V0z\" fill=\"none\"/>\n",
              "    <path d=\"M18.56 5.44l.94 2.06.94-2.06 2.06-.94-2.06-.94-.94-2.06-.94 2.06-2.06.94zm-11 1L8.5 8.5l.94-2.06 2.06-.94-2.06-.94L8.5 2.5l-.94 2.06-2.06.94zm10 10l.94 2.06.94-2.06 2.06-.94-2.06-.94-.94-2.06-.94 2.06-2.06.94z\"/><path d=\"M17.41 7.96l-1.37-1.37c-.4-.4-.92-.59-1.43-.59-.52 0-1.04.2-1.43.59L10.3 9.45l-7.72 7.72c-.78.78-.78 2.05 0 2.83L4 21.41c.39.39.9.59 1.41.59.51 0 1.02-.2 1.41-.59l7.78-7.78 2.81-2.81c.8-.78.8-2.07 0-2.86zM5.41 20L4 18.59l7.72-7.72 1.47 1.35L5.41 20z\"/>\n",
              "  </svg>\n",
              "      </button>\n",
              "      \n",
              "  <style>\n",
              "    .colab-df-container {\n",
              "      display:flex;\n",
              "      flex-wrap:wrap;\n",
              "      gap: 12px;\n",
              "    }\n",
              "\n",
              "    .colab-df-convert {\n",
              "      background-color: #E8F0FE;\n",
              "      border: none;\n",
              "      border-radius: 50%;\n",
              "      cursor: pointer;\n",
              "      display: none;\n",
              "      fill: #1967D2;\n",
              "      height: 32px;\n",
              "      padding: 0 0 0 0;\n",
              "      width: 32px;\n",
              "    }\n",
              "\n",
              "    .colab-df-convert:hover {\n",
              "      background-color: #E2EBFA;\n",
              "      box-shadow: 0px 1px 2px rgba(60, 64, 67, 0.3), 0px 1px 3px 1px rgba(60, 64, 67, 0.15);\n",
              "      fill: #174EA6;\n",
              "    }\n",
              "\n",
              "    [theme=dark] .colab-df-convert {\n",
              "      background-color: #3B4455;\n",
              "      fill: #D2E3FC;\n",
              "    }\n",
              "\n",
              "    [theme=dark] .colab-df-convert:hover {\n",
              "      background-color: #434B5C;\n",
              "      box-shadow: 0px 1px 3px 1px rgba(0, 0, 0, 0.15);\n",
              "      filter: drop-shadow(0px 1px 2px rgba(0, 0, 0, 0.3));\n",
              "      fill: #FFFFFF;\n",
              "    }\n",
              "  </style>\n",
              "\n",
              "      <script>\n",
              "        const buttonEl =\n",
              "          document.querySelector('#df-014ef8fb-d334-4f65-982a-b807b193fbe9 button.colab-df-convert');\n",
              "        buttonEl.style.display =\n",
              "          google.colab.kernel.accessAllowed ? 'block' : 'none';\n",
              "\n",
              "        async function convertToInteractive(key) {\n",
              "          const element = document.querySelector('#df-014ef8fb-d334-4f65-982a-b807b193fbe9');\n",
              "          const dataTable =\n",
              "            await google.colab.kernel.invokeFunction('convertToInteractive',\n",
              "                                                     [key], {});\n",
              "          if (!dataTable) return;\n",
              "\n",
              "          const docLinkHtml = 'Like what you see? Visit the ' +\n",
              "            '<a target=\"_blank\" href=https://colab.research.google.com/notebooks/data_table.ipynb>data table notebook</a>'\n",
              "            + ' to learn more about interactive tables.';\n",
              "          element.innerHTML = '';\n",
              "          dataTable['output_type'] = 'display_data';\n",
              "          await google.colab.output.renderOutput(dataTable, element);\n",
              "          const docLink = document.createElement('div');\n",
              "          docLink.innerHTML = docLinkHtml;\n",
              "          element.appendChild(docLink);\n",
              "        }\n",
              "      </script>\n",
              "    </div>\n",
              "  </div>\n",
              "  "
            ],
            "text/plain": [
              "                                               Title  ... License\n",
              "0  Star Wars: Episode VII - The Force Awakens (2015)  ...   PG-13\n",
              "1                           Avengers: Endgame (2019)  ...   PG-13\n",
              "2                                      Avatar (2009)  ...   PG-13\n",
              "3                               Black Panther (2018)  ...     NaN\n",
              "4                      Avengers: Infinity War (2018)  ...     NaN\n",
              "\n",
              "[5 rows x 10 columns]"
            ]
          },
          "metadata": {},
          "execution_count": 14
        }
      ]
    },
    {
      "cell_type": "markdown",
      "source": [
        "As variáveis qualitativas na base de dados são: 'Title', 'Movie Info', 'Distributor', 'Genre', 'License'.\n",
        "\n"
      ],
      "metadata": {
        "id": "J9wCNUtzhrKH"
      }
    },
    {
      "cell_type": "markdown",
      "source": [
        "As variáveis quantitativas na base de dados são: \n",
        "       'Domestic Sales (in $)', 'International Sales (in $)',\n",
        "       'World Sales (in $)', 'Movie Runtime'"
      ],
      "metadata": {
        "id": "fZgOREoNjsAq"
      }
    },
    {
      "cell_type": "markdown",
      "source": [
        "## **Distribuição de frequência**"
      ],
      "metadata": {
        "id": "f8DJsgZxVBUs"
      }
    },
    {
      "cell_type": "markdown",
      "source": [
        "### **Variáveis Qualitativas**"
      ],
      "metadata": {
        "id": "lURsqDWLhRoA"
      }
    },
    {
      "cell_type": "markdown",
      "source": [
        "Vamos verificar quantos filmes de cada distribuidora estão na base de dados."
      ],
      "metadata": {
        "id": "O9HtgUCWaIkF"
      }
    },
    {
      "cell_type": "code",
      "source": [
        "# vamos fazer uma tabela de frequência\n",
        "pd.crosstab(index = data[\"Distributor\"], columns=\"count\").sort_values('count', ascending = False)"
      ],
      "metadata": {
        "colab": {
          "base_uri": "https://localhost:8080/",
          "height": 1000
        },
        "id": "kD60hUO6Z2je",
        "outputId": "6ec51857-47da-40cd-aecd-f89dacba7a1e"
      },
      "execution_count": 15,
      "outputs": [
        {
          "output_type": "execute_result",
          "data": {
            "text/html": [
              "\n",
              "  <div id=\"df-634f2506-f312-421b-b8e1-971a999f046d\">\n",
              "    <div class=\"colab-df-container\">\n",
              "      <div>\n",
              "<style scoped>\n",
              "    .dataframe tbody tr th:only-of-type {\n",
              "        vertical-align: middle;\n",
              "    }\n",
              "\n",
              "    .dataframe tbody tr th {\n",
              "        vertical-align: top;\n",
              "    }\n",
              "\n",
              "    .dataframe thead th {\n",
              "        text-align: right;\n",
              "    }\n",
              "</style>\n",
              "<table border=\"1\" class=\"dataframe\">\n",
              "  <thead>\n",
              "    <tr style=\"text-align: right;\">\n",
              "      <th>col_0</th>\n",
              "      <th>count</th>\n",
              "    </tr>\n",
              "    <tr>\n",
              "      <th>Distributor</th>\n",
              "      <th></th>\n",
              "    </tr>\n",
              "  </thead>\n",
              "  <tbody>\n",
              "    <tr>\n",
              "      <th>Warner Bros.</th>\n",
              "      <td>158</td>\n",
              "    </tr>\n",
              "    <tr>\n",
              "      <th>Walt Disney Studios Motion Pictures</th>\n",
              "      <td>155</td>\n",
              "    </tr>\n",
              "    <tr>\n",
              "      <th>Universal Pictures</th>\n",
              "      <td>119</td>\n",
              "    </tr>\n",
              "    <tr>\n",
              "      <th>Twentieth Century Fox</th>\n",
              "      <td>117</td>\n",
              "    </tr>\n",
              "    <tr>\n",
              "      <th>Sony Pictures Entertainment (SPE)</th>\n",
              "      <td>101</td>\n",
              "    </tr>\n",
              "    <tr>\n",
              "      <th>Paramount Pictures</th>\n",
              "      <td>99</td>\n",
              "    </tr>\n",
              "    <tr>\n",
              "      <th>New Line Cinema</th>\n",
              "      <td>21</td>\n",
              "    </tr>\n",
              "    <tr>\n",
              "      <th>DreamWorks</th>\n",
              "      <td>21</td>\n",
              "    </tr>\n",
              "    <tr>\n",
              "      <th>Lionsgate</th>\n",
              "      <td>19</td>\n",
              "    </tr>\n",
              "    <tr>\n",
              "      <th>DreamWorks Distribution</th>\n",
              "      <td>17</td>\n",
              "    </tr>\n",
              "    <tr>\n",
              "      <th>Metro-Goldwyn-Mayer (MGM)</th>\n",
              "      <td>12</td>\n",
              "    </tr>\n",
              "    <tr>\n",
              "      <th>TriStar Pictures</th>\n",
              "      <td>9</td>\n",
              "    </tr>\n",
              "    <tr>\n",
              "      <th>Miramax</th>\n",
              "      <td>9</td>\n",
              "    </tr>\n",
              "    <tr>\n",
              "      <th>Revolution Studios</th>\n",
              "      <td>8</td>\n",
              "    </tr>\n",
              "    <tr>\n",
              "      <th>Columbia Pictures</th>\n",
              "      <td>7</td>\n",
              "    </tr>\n",
              "    <tr>\n",
              "      <th>Dimension Films</th>\n",
              "      <td>7</td>\n",
              "    </tr>\n",
              "    <tr>\n",
              "      <th>The Weinstein Company</th>\n",
              "      <td>6</td>\n",
              "    </tr>\n",
              "    <tr>\n",
              "      <th>Summit Entertainment</th>\n",
              "      <td>5</td>\n",
              "    </tr>\n",
              "    <tr>\n",
              "      <th>Fox Searchlight Pictures</th>\n",
              "      <td>4</td>\n",
              "    </tr>\n",
              "    <tr>\n",
              "      <th>Orion Pictures</th>\n",
              "      <td>3</td>\n",
              "    </tr>\n",
              "    <tr>\n",
              "      <th>STX Entertainment</th>\n",
              "      <td>3</td>\n",
              "    </tr>\n",
              "    <tr>\n",
              "      <th>Screen Gems</th>\n",
              "      <td>3</td>\n",
              "    </tr>\n",
              "    <tr>\n",
              "      <th>Focus Features</th>\n",
              "      <td>2</td>\n",
              "    </tr>\n",
              "    <tr>\n",
              "      <th>United Artists</th>\n",
              "      <td>2</td>\n",
              "    </tr>\n",
              "    <tr>\n",
              "      <th>FilmDistrict</th>\n",
              "      <td>2</td>\n",
              "    </tr>\n",
              "    <tr>\n",
              "      <th>USA Films</th>\n",
              "      <td>1</td>\n",
              "    </tr>\n",
              "    <tr>\n",
              "      <th>United Artists Releasing</th>\n",
              "      <td>1</td>\n",
              "    </tr>\n",
              "    <tr>\n",
              "      <th>20th Century Studios</th>\n",
              "      <td>1</td>\n",
              "    </tr>\n",
              "    <tr>\n",
              "      <th>Sony Pictures Classics</th>\n",
              "      <td>1</td>\n",
              "    </tr>\n",
              "    <tr>\n",
              "      <th>Roadside Attractions</th>\n",
              "      <td>1</td>\n",
              "    </tr>\n",
              "    <tr>\n",
              "      <th>Artisan Entertainment</th>\n",
              "      <td>1</td>\n",
              "    </tr>\n",
              "    <tr>\n",
              "      <th>Newmarket Films</th>\n",
              "      <td>1</td>\n",
              "    </tr>\n",
              "    <tr>\n",
              "      <th>IFC Films</th>\n",
              "      <td>1</td>\n",
              "    </tr>\n",
              "    <tr>\n",
              "      <th>Relativity Media</th>\n",
              "      <td>1</td>\n",
              "    </tr>\n",
              "  </tbody>\n",
              "</table>\n",
              "</div>\n",
              "      <button class=\"colab-df-convert\" onclick=\"convertToInteractive('df-634f2506-f312-421b-b8e1-971a999f046d')\"\n",
              "              title=\"Convert this dataframe to an interactive table.\"\n",
              "              style=\"display:none;\">\n",
              "        \n",
              "  <svg xmlns=\"http://www.w3.org/2000/svg\" height=\"24px\"viewBox=\"0 0 24 24\"\n",
              "       width=\"24px\">\n",
              "    <path d=\"M0 0h24v24H0V0z\" fill=\"none\"/>\n",
              "    <path d=\"M18.56 5.44l.94 2.06.94-2.06 2.06-.94-2.06-.94-.94-2.06-.94 2.06-2.06.94zm-11 1L8.5 8.5l.94-2.06 2.06-.94-2.06-.94L8.5 2.5l-.94 2.06-2.06.94zm10 10l.94 2.06.94-2.06 2.06-.94-2.06-.94-.94-2.06-.94 2.06-2.06.94z\"/><path d=\"M17.41 7.96l-1.37-1.37c-.4-.4-.92-.59-1.43-.59-.52 0-1.04.2-1.43.59L10.3 9.45l-7.72 7.72c-.78.78-.78 2.05 0 2.83L4 21.41c.39.39.9.59 1.41.59.51 0 1.02-.2 1.41-.59l7.78-7.78 2.81-2.81c.8-.78.8-2.07 0-2.86zM5.41 20L4 18.59l7.72-7.72 1.47 1.35L5.41 20z\"/>\n",
              "  </svg>\n",
              "      </button>\n",
              "      \n",
              "  <style>\n",
              "    .colab-df-container {\n",
              "      display:flex;\n",
              "      flex-wrap:wrap;\n",
              "      gap: 12px;\n",
              "    }\n",
              "\n",
              "    .colab-df-convert {\n",
              "      background-color: #E8F0FE;\n",
              "      border: none;\n",
              "      border-radius: 50%;\n",
              "      cursor: pointer;\n",
              "      display: none;\n",
              "      fill: #1967D2;\n",
              "      height: 32px;\n",
              "      padding: 0 0 0 0;\n",
              "      width: 32px;\n",
              "    }\n",
              "\n",
              "    .colab-df-convert:hover {\n",
              "      background-color: #E2EBFA;\n",
              "      box-shadow: 0px 1px 2px rgba(60, 64, 67, 0.3), 0px 1px 3px 1px rgba(60, 64, 67, 0.15);\n",
              "      fill: #174EA6;\n",
              "    }\n",
              "\n",
              "    [theme=dark] .colab-df-convert {\n",
              "      background-color: #3B4455;\n",
              "      fill: #D2E3FC;\n",
              "    }\n",
              "\n",
              "    [theme=dark] .colab-df-convert:hover {\n",
              "      background-color: #434B5C;\n",
              "      box-shadow: 0px 1px 3px 1px rgba(0, 0, 0, 0.15);\n",
              "      filter: drop-shadow(0px 1px 2px rgba(0, 0, 0, 0.3));\n",
              "      fill: #FFFFFF;\n",
              "    }\n",
              "  </style>\n",
              "\n",
              "      <script>\n",
              "        const buttonEl =\n",
              "          document.querySelector('#df-634f2506-f312-421b-b8e1-971a999f046d button.colab-df-convert');\n",
              "        buttonEl.style.display =\n",
              "          google.colab.kernel.accessAllowed ? 'block' : 'none';\n",
              "\n",
              "        async function convertToInteractive(key) {\n",
              "          const element = document.querySelector('#df-634f2506-f312-421b-b8e1-971a999f046d');\n",
              "          const dataTable =\n",
              "            await google.colab.kernel.invokeFunction('convertToInteractive',\n",
              "                                                     [key], {});\n",
              "          if (!dataTable) return;\n",
              "\n",
              "          const docLinkHtml = 'Like what you see? Visit the ' +\n",
              "            '<a target=\"_blank\" href=https://colab.research.google.com/notebooks/data_table.ipynb>data table notebook</a>'\n",
              "            + ' to learn more about interactive tables.';\n",
              "          element.innerHTML = '';\n",
              "          dataTable['output_type'] = 'display_data';\n",
              "          await google.colab.output.renderOutput(dataTable, element);\n",
              "          const docLink = document.createElement('div');\n",
              "          docLink.innerHTML = docLinkHtml;\n",
              "          element.appendChild(docLink);\n",
              "        }\n",
              "      </script>\n",
              "    </div>\n",
              "  </div>\n",
              "  "
            ],
            "text/plain": [
              "col_0                                count\n",
              "Distributor                               \n",
              "Warner Bros.                           158\n",
              "Walt Disney Studios Motion Pictures    155\n",
              "Universal Pictures                     119\n",
              "Twentieth Century Fox                  117\n",
              "Sony Pictures Entertainment (SPE)      101\n",
              "Paramount Pictures                      99\n",
              "New Line Cinema                         21\n",
              "DreamWorks                              21\n",
              "Lionsgate                               19\n",
              "DreamWorks Distribution                 17\n",
              "Metro-Goldwyn-Mayer (MGM)               12\n",
              "TriStar Pictures                         9\n",
              "Miramax                                  9\n",
              "Revolution Studios                       8\n",
              "Columbia Pictures                        7\n",
              "Dimension Films                          7\n",
              "The Weinstein Company                    6\n",
              "Summit Entertainment                     5\n",
              "Fox Searchlight Pictures                 4\n",
              "Orion Pictures                           3\n",
              "STX Entertainment                        3\n",
              "Screen Gems                              3\n",
              "Focus Features                           2\n",
              "United Artists                           2\n",
              "FilmDistrict                             2\n",
              "USA Films                                1\n",
              "United Artists Releasing                 1\n",
              "20th Century Studios                     1\n",
              "Sony Pictures Classics                   1\n",
              "Roadside Attractions                     1\n",
              "Artisan Entertainment                    1\n",
              "Newmarket Films                          1\n",
              "IFC Films                                1\n",
              "Relativity Media                         1"
            ]
          },
          "metadata": {},
          "execution_count": 15
        }
      ]
    },
    {
      "cell_type": "code",
      "source": [
        "# vamos fazer um gráfico de barras\n",
        "fig,ax=plt.subplots(figsize=(20,7))\n",
        "sns.barplot(x='Distributor', y='Title', color = \"steelblue\", edgecolor='black',\n",
        "            data= data.groupby('Distributor', as_index=False)['Title'].count().sort_values('Title',ascending=False))\n",
        "ax.tick_params(axis='x', labelrotation=90)\n",
        "ax.set_title('Filmes por Distribuidora', fontsize=14)\n",
        "plt.show()"
      ],
      "metadata": {
        "colab": {
          "base_uri": "https://localhost:8080/",
          "height": 629
        },
        "id": "kFn_FUBLZ2m2",
        "outputId": "65f77b29-c912-4441-f4db-5a0f2d07a80b"
      },
      "execution_count": 16,
      "outputs": [
        {
          "output_type": "display_data",
          "data": {
            "image/png": "[encoded data removed]",
            "text/plain": [
              "<Figure size 1440x504 with 1 Axes>"
            ]
          },
          "metadata": {
            "needs_background": "light"
          }
        }
      ]
    },
    {
      "cell_type": "markdown",
      "source": [
        "### **Variáveis Quantitativas**"
      ],
      "metadata": {
        "id": "YqMDabYQi5cO"
      }
    },
    {
      "cell_type": "markdown",
      "source": [
        "Vamos verificar a distribuição de tempo do filme."
      ],
      "metadata": {
        "id": "JkaCgSBxkGgK"
      }
    },
    {
      "cell_type": "code",
      "source": [
        "# com a quantidade de bins default\n",
        "sns.histplot(data = data, x = \"Movie Runtime\")\n",
        "plt.show()"
      ],
      "metadata": {
        "colab": {
          "base_uri": "https://localhost:8080/",
          "height": 279
        },
        "id": "jdHQwLSQkVfZ",
        "outputId": "ea8689bb-a2fe-4e4b-ef3f-5377786762f9"
      },
      "execution_count": 17,
      "outputs": [
        {
          "output_type": "display_data",
          "data": {
            "image/png": "[encoded data removed]",
            "text/plain": [
              "<Figure size 432x288 with 1 Axes>"
            ]
          },
          "metadata": {
            "needs_background": "light"
          }
        }
      ]
    },
    {
      "cell_type": "code",
      "source": [
        "# com a quantidade de bins escolhida\n",
        "sns.histplot(data = data, x = \"Movie Runtime\", bins = 10)\n",
        "plt.show()"
      ],
      "metadata": {
        "colab": {
          "base_uri": "https://localhost:8080/",
          "height": 279
        },
        "id": "nMKWedR9ki3-",
        "outputId": "9e2ae249-1d27-45fd-f837-f44a11f68410"
      },
      "execution_count": 18,
      "outputs": [
        {
          "output_type": "display_data",
          "data": {
            "image/png": "[encoded data removed]",
            "text/plain": [
              "<Figure size 432x288 with 1 Axes>"
            ]
          },
          "metadata": {
            "needs_background": "light"
          }
        }
      ]
    },
    {
      "cell_type": "markdown",
      "source": [
        "## **Medidas de tendência central e Medidas separatrizes**"
      ],
      "metadata": {
        "id": "N7YHVQwwVC-3"
      }
    },
    {
      "cell_type": "markdown",
      "source": [
        "### **Variáveis Quantitativas**"
      ],
      "metadata": {
        "id": "OJSd6Gbfutlt"
      }
    },
    {
      "cell_type": "code",
      "source": [
        "# vamos verificar a \"distribuição\" de todas as variáveis numéricas da base de dados ao mesmo tempo\n",
        "data.describe()"
      ],
      "metadata": {
        "colab": {
          "base_uri": "https://localhost:8080/",
          "height": 300
        },
        "id": "t7ZTf91-lF2C",
        "outputId": "c5a8158a-bfa4-4a28-9617-9a5c6882c0d9"
      },
      "execution_count": 19,
      "outputs": [
        {
          "output_type": "execute_result",
          "data": {
            "text/html": [
              "\n",
              "  <div id=\"df-01cb434f-603a-4b26-9d21-76a6cb079d39\">\n",
              "    <div class=\"colab-df-container\">\n",
              "      <div>\n",
              "<style scoped>\n",
              "    .dataframe tbody tr th:only-of-type {\n",
              "        vertical-align: middle;\n",
              "    }\n",
              "\n",
              "    .dataframe tbody tr th {\n",
              "        vertical-align: top;\n",
              "    }\n",
              "\n",
              "    .dataframe thead th {\n",
              "        text-align: right;\n",
              "    }\n",
              "</style>\n",
              "<table border=\"1\" class=\"dataframe\">\n",
              "  <thead>\n",
              "    <tr style=\"text-align: right;\">\n",
              "      <th></th>\n",
              "      <th>Domestic Sales (in $)</th>\n",
              "      <th>International Sales (in $)</th>\n",
              "      <th>World Sales (in $)</th>\n",
              "      <th>Movie Runtime</th>\n",
              "    </tr>\n",
              "  </thead>\n",
              "  <tbody>\n",
              "    <tr>\n",
              "      <th>count</th>\n",
              "      <td>918.000000</td>\n",
              "      <td>918.000000</td>\n",
              "      <td>918.000000</td>\n",
              "      <td>918.000000</td>\n",
              "    </tr>\n",
              "    <tr>\n",
              "      <th>mean</th>\n",
              "      <td>167.746918</td>\n",
              "      <td>230.143436</td>\n",
              "      <td>396.866826</td>\n",
              "      <td>1.942847</td>\n",
              "    </tr>\n",
              "    <tr>\n",
              "      <th>std</th>\n",
              "      <td>104.036045</td>\n",
              "      <td>217.601104</td>\n",
              "      <td>308.262916</td>\n",
              "      <td>0.347929</td>\n",
              "    </tr>\n",
              "    <tr>\n",
              "      <th>min</th>\n",
              "      <td>80.360843</td>\n",
              "      <td>0.000260</td>\n",
              "      <td>81.600000</td>\n",
              "      <td>1.266667</td>\n",
              "    </tr>\n",
              "    <tr>\n",
              "      <th>25%</th>\n",
              "      <td>101.607072</td>\n",
              "      <td>88.456200</td>\n",
              "      <td>200.556355</td>\n",
              "      <td>1.666667</td>\n",
              "    </tr>\n",
              "    <tr>\n",
              "      <th>50%</th>\n",
              "      <td>132.135096</td>\n",
              "      <td>163.881928</td>\n",
              "      <td>301.941607</td>\n",
              "      <td>1.916667</td>\n",
              "    </tr>\n",
              "    <tr>\n",
              "      <th>75%</th>\n",
              "      <td>191.390486</td>\n",
              "      <td>288.557651</td>\n",
              "      <td>475.071823</td>\n",
              "      <td>2.166667</td>\n",
              "    </tr>\n",
              "    <tr>\n",
              "      <th>max</th>\n",
              "      <td>936.662225</td>\n",
              "      <td>2086.738578</td>\n",
              "      <td>2847.246203</td>\n",
              "      <td>3.350000</td>\n",
              "    </tr>\n",
              "  </tbody>\n",
              "</table>\n",
              "</div>\n",
              "      <button class=\"colab-df-convert\" onclick=\"convertToInteractive('df-01cb434f-603a-4b26-9d21-76a6cb079d39')\"\n",
              "              title=\"Convert this dataframe to an interactive table.\"\n",
              "              style=\"display:none;\">\n",
              "        \n",
              "  <svg xmlns=\"http://www.w3.org/2000/svg\" height=\"24px\"viewBox=\"0 0 24 24\"\n",
              "       width=\"24px\">\n",
              "    <path d=\"M0 0h24v24H0V0z\" fill=\"none\"/>\n",
              "    <path d=\"M18.56 5.44l.94 2.06.94-2.06 2.06-.94-2.06-.94-.94-2.06-.94 2.06-2.06.94zm-11 1L8.5 8.5l.94-2.06 2.06-.94-2.06-.94L8.5 2.5l-.94 2.06-2.06.94zm10 10l.94 2.06.94-2.06 2.06-.94-2.06-.94-.94-2.06-.94 2.06-2.06.94z\"/><path d=\"M17.41 7.96l-1.37-1.37c-.4-.4-.92-.59-1.43-.59-.52 0-1.04.2-1.43.59L10.3 9.45l-7.72 7.72c-.78.78-.78 2.05 0 2.83L4 21.41c.39.39.9.59 1.41.59.51 0 1.02-.2 1.41-.59l7.78-7.78 2.81-2.81c.8-.78.8-2.07 0-2.86zM5.41 20L4 18.59l7.72-7.72 1.47 1.35L5.41 20z\"/>\n",
              "  </svg>\n",
              "      </button>\n",
              "      \n",
              "  <style>\n",
              "    .colab-df-container {\n",
              "      display:flex;\n",
              "      flex-wrap:wrap;\n",
              "      gap: 12px;\n",
              "    }\n",
              "\n",
              "    .colab-df-convert {\n",
              "      background-color: #E8F0FE;\n",
              "      border: none;\n",
              "      border-radius: 50%;\n",
              "      cursor: pointer;\n",
              "      display: none;\n",
              "      fill: #1967D2;\n",
              "      height: 32px;\n",
              "      padding: 0 0 0 0;\n",
              "      width: 32px;\n",
              "    }\n",
              "\n",
              "    .colab-df-convert:hover {\n",
              "      background-color: #E2EBFA;\n",
              "      box-shadow: 0px 1px 2px rgba(60, 64, 67, 0.3), 0px 1px 3px 1px rgba(60, 64, 67, 0.15);\n",
              "      fill: #174EA6;\n",
              "    }\n",
              "\n",
              "    [theme=dark] .colab-df-convert {\n",
              "      background-color: #3B4455;\n",
              "      fill: #D2E3FC;\n",
              "    }\n",
              "\n",
              "    [theme=dark] .colab-df-convert:hover {\n",
              "      background-color: #434B5C;\n",
              "      box-shadow: 0px 1px 3px 1px rgba(0, 0, 0, 0.15);\n",
              "      filter: drop-shadow(0px 1px 2px rgba(0, 0, 0, 0.3));\n",
              "      fill: #FFFFFF;\n",
              "    }\n",
              "  </style>\n",
              "\n",
              "      <script>\n",
              "        const buttonEl =\n",
              "          document.querySelector('#df-01cb434f-603a-4b26-9d21-76a6cb079d39 button.colab-df-convert');\n",
              "        buttonEl.style.display =\n",
              "          google.colab.kernel.accessAllowed ? 'block' : 'none';\n",
              "\n",
              "        async function convertToInteractive(key) {\n",
              "          const element = document.querySelector('#df-01cb434f-603a-4b26-9d21-76a6cb079d39');\n",
              "          const dataTable =\n",
              "            await google.colab.kernel.invokeFunction('convertToInteractive',\n",
              "                                                     [key], {});\n",
              "          if (!dataTable) return;\n",
              "\n",
              "          const docLinkHtml = 'Like what you see? Visit the ' +\n",
              "            '<a target=\"_blank\" href=https://colab.research.google.com/notebooks/data_table.ipynb>data table notebook</a>'\n",
              "            + ' to learn more about interactive tables.';\n",
              "          element.innerHTML = '';\n",
              "          dataTable['output_type'] = 'display_data';\n",
              "          await google.colab.output.renderOutput(dataTable, element);\n",
              "          const docLink = document.createElement('div');\n",
              "          docLink.innerHTML = docLinkHtml;\n",
              "          element.appendChild(docLink);\n",
              "        }\n",
              "      </script>\n",
              "    </div>\n",
              "  </div>\n",
              "  "
            ],
            "text/plain": [
              "       Domestic Sales (in $)  ...  Movie Runtime\n",
              "count             918.000000  ...     918.000000\n",
              "mean              167.746918  ...       1.942847\n",
              "std               104.036045  ...       0.347929\n",
              "min                80.360843  ...       1.266667\n",
              "25%               101.607072  ...       1.666667\n",
              "50%               132.135096  ...       1.916667\n",
              "75%               191.390486  ...       2.166667\n",
              "max               936.662225  ...       3.350000\n",
              "\n",
              "[8 rows x 4 columns]"
            ]
          },
          "metadata": {},
          "execution_count": 19
        }
      ]
    },
    {
      "cell_type": "markdown",
      "source": [
        "Agora iremos focar as análises nos dados de tempo de duração do filme."
      ],
      "metadata": {
        "id": "bnIViK27wF5R"
      }
    },
    {
      "cell_type": "code",
      "source": [
        "# calculando a moda de variável quantitativa\n",
        "\n",
        "# create the histogram\n",
        "n, bins, patches = plt.hist(data['Movie Runtime'], bins=10, color = \"steelblue\")  \n",
        "\n",
        "# show the histogram\n",
        "plt.show()\n",
        "\n",
        "mode_index = n.argmax()\n",
        "# the most frequent bin\n",
        "print('the most frequent bin:(' + str(bins[mode_index]) + ',' + str(bins[mode_index+1]) + ')')\n",
        "# the mode         \n",
        "print('the mode:'+ str((bins[mode_index] + bins[mode_index+1])/2))"
      ],
      "metadata": {
        "colab": {
          "base_uri": "https://localhost:8080/",
          "height": 300
        },
        "id": "JikUs2MxpYdd",
        "outputId": "83ac8062-2af2-4ac6-b086-1f509e2ea221"
      },
      "execution_count": 20,
      "outputs": [
        {
          "output_type": "display_data",
          "data": {
            "image/png": "[encoded data removed]",
            "text/plain": [
              "<Figure size 432x288 with 1 Axes>"
            ]
          },
          "metadata": {
            "needs_background": "light"
          }
        },
        {
          "output_type": "stream",
          "name": "stdout",
          "text": [
            "the most frequent bin:(1.6833333333333333,1.8916666666666666)\n",
            "the mode:1.7875\n"
          ]
        }
      ]
    },
    {
      "cell_type": "code",
      "source": [
        "# calculando os quantis\n",
        "data[\"Movie Runtime\"].quantile([0.05, 0.95])"
      ],
      "metadata": {
        "colab": {
          "base_uri": "https://localhost:8080/"
        },
        "id": "19dwoSdmrkRR",
        "outputId": "fcc4d45e-5732-4c2c-f8ed-ba47df816e6b"
      },
      "execution_count": 21,
      "outputs": [
        {
          "output_type": "execute_result",
          "data": {
            "text/plain": [
              "0.05    1.466667\n",
              "0.95    2.566667\n",
              "Name: Movie Runtime, dtype: float64"
            ]
          },
          "metadata": {},
          "execution_count": 21
        }
      ]
    },
    {
      "cell_type": "markdown",
      "source": [
        "Verificando graficamente o tempo de duração dos filmes."
      ],
      "metadata": {
        "id": "gUp26Vvft8Hl"
      }
    },
    {
      "cell_type": "code",
      "source": [
        "# creando uma figura de dois axes \n",
        "f, (ax_box, ax_hist) = plt.subplots(2, sharex=True, gridspec_kw={\"height_ratios\": (.15, .85)})\n",
        " \n",
        "# adicionando um gráfico em cada ax \n",
        "sns.boxplot(data[\"Movie Runtime\"], ax=ax_box)\n",
        "sns.histplot(data=data, x=\"Movie Runtime\", ax=ax_hist)\n",
        " \n",
        "# removendo o nome do eixo x do boxplot\n",
        "ax_box.set(xlabel='')\n",
        "plt.show()"
      ],
      "metadata": {
        "colab": {
          "base_uri": "https://localhost:8080/",
          "height": 279
        },
        "id": "TK55gS2XZ2u-",
        "outputId": "c4936fc5-f373-4ab3-a41c-62595305355f"
      },
      "execution_count": 22,
      "outputs": [
        {
          "output_type": "display_data",
          "data": {
            "image/png": "[encoded data removed]",
            "text/plain": [
              "<Figure size 432x288 with 2 Axes>"
            ]
          },
          "metadata": {
            "needs_background": "light"
          }
        }
      ]
    },
    {
      "cell_type": "markdown",
      "source": [
        "### **Variáveis Qualitativas**"
      ],
      "metadata": {
        "id": "3x7TeW4tuNJy"
      }
    },
    {
      "cell_type": "code",
      "source": [
        "# calculando a moda de variável qualitativa\n",
        "statistics.mode(data['Distributor'])"
      ],
      "metadata": {
        "colab": {
          "base_uri": "https://localhost:8080/",
          "height": 35
        },
        "id": "58hr79uAmf89",
        "outputId": "7cddcf56-c85e-499f-c254-efdbff68cb7d"
      },
      "execution_count": 23,
      "outputs": [
        {
          "output_type": "execute_result",
          "data": {
            "application/vnd.google.colaboratory.intrinsic+json": {
              "type": "string"
            },
            "text/plain": [
              "'Warner Bros.'"
            ]
          },
          "metadata": {},
          "execution_count": 23
        }
      ]
    },
    {
      "cell_type": "markdown",
      "source": [
        "### **Variáveis Quantitativas VS Variáveis Qualitativas**\n",
        "\n",
        "Vamos verificar quanto cada distribuidora arrecadou."
      ],
      "metadata": {
        "id": "9RyrMs9Vqezc"
      }
    },
    {
      "cell_type": "code",
      "source": [
        "# quanto cada distribuidora arecadou em média\n",
        "data.groupby(['Distributor'])['World Sales (in $)'].mean()"
      ],
      "metadata": {
        "colab": {
          "base_uri": "https://localhost:8080/"
        },
        "id": "gZsR1SIcqoPj",
        "outputId": "ff8b2c29-eedc-4277-822c-2452f36f8b5e"
      },
      "execution_count": 24,
      "outputs": [
        {
          "output_type": "execute_result",
          "data": {
            "text/plain": [
              "Distributor\n",
              "20th Century Studios                   331.503757\n",
              "Artisan Entertainment                  248.639099\n",
              "Columbia Pictures                      196.315661\n",
              "Dimension Films                        174.715016\n",
              "DreamWorks                             495.855995\n",
              "DreamWorks Distribution                342.037644\n",
              "FilmDistrict                           166.094760\n",
              "Focus Features                         207.961405\n",
              "Fox Searchlight Pictures               279.356113\n",
              "IFC Films                              368.744044\n",
              "Lionsgate                              394.658207\n",
              "Metro-Goldwyn-Mayer (MGM)              309.823696\n",
              "Miramax                                228.732351\n",
              "New Line Cinema                        336.492666\n",
              "Newmarket Films                        612.054506\n",
              "Orion Pictures                         278.499134\n",
              "Paramount Pictures                     327.712358\n",
              "Relativity Media                       226.904017\n",
              "Revolution Studios                     180.304510\n",
              "Roadside Attractions                    86.086881\n",
              "STX Entertainment                      155.785284\n",
              "Screen Gems                            149.982026\n",
              "Sony Pictures Classics                 213.525736\n",
              "Sony Pictures Entertainment (SPE)      370.856318\n",
              "Summit Entertainment                   545.831897\n",
              "The Weinstein Company                  303.698065\n",
              "TriStar Pictures                       275.949781\n",
              "Twentieth Century Fox                  415.289694\n",
              "USA Films                              207.515725\n",
              "United Artists                         251.009616\n",
              "United Artists Releasing               203.783845\n",
              "Universal Pictures                     383.215503\n",
              "Walt Disney Studios Motion Pictures    531.432894\n",
              "Warner Bros.                           402.515784\n",
              "Name: World Sales (in $), dtype: float64"
            ]
          },
          "metadata": {},
          "execution_count": 24
        }
      ]
    },
    {
      "cell_type": "code",
      "source": [
        "# quanto cada distribuidora arecadou no total\n",
        "data.groupby(['Distributor'])['World Sales (in $)'].sum()"
      ],
      "metadata": {
        "colab": {
          "base_uri": "https://localhost:8080/"
        },
        "id": "heY_dTnErHAd",
        "outputId": "ec023d3c-89d2-4bda-8b28-9f5b540ae292"
      },
      "execution_count": 25,
      "outputs": [
        {
          "output_type": "execute_result",
          "data": {
            "text/plain": [
              "Distributor\n",
              "20th Century Studios                     331.503757\n",
              "Artisan Entertainment                    248.639099\n",
              "Columbia Pictures                       1374.209626\n",
              "Dimension Films                         1223.005113\n",
              "DreamWorks                             10412.975902\n",
              "DreamWorks Distribution                 5814.639953\n",
              "FilmDistrict                             332.189519\n",
              "Focus Features                           415.922809\n",
              "Fox Searchlight Pictures                1117.424454\n",
              "IFC Films                                368.744044\n",
              "Lionsgate                               7498.505934\n",
              "Metro-Goldwyn-Mayer (MGM)               3717.884355\n",
              "Miramax                                 2058.591162\n",
              "New Line Cinema                         7066.345995\n",
              "Newmarket Films                          612.054506\n",
              "Orion Pictures                           835.497402\n",
              "Paramount Pictures                     32443.523480\n",
              "Relativity Media                         226.904017\n",
              "Revolution Studios                      1442.436078\n",
              "Roadside Attractions                      86.086881\n",
              "STX Entertainment                        467.355852\n",
              "Screen Gems                              449.946079\n",
              "Sony Pictures Classics                   213.525736\n",
              "Sony Pictures Entertainment (SPE)      37456.488081\n",
              "Summit Entertainment                    2729.159486\n",
              "The Weinstein Company                   1822.188393\n",
              "TriStar Pictures                        2483.548026\n",
              "Twentieth Century Fox                  48588.894179\n",
              "USA Films                                207.515725\n",
              "United Artists                           502.019233\n",
              "United Artists Releasing                 203.783845\n",
              "Universal Pictures                     45602.644818\n",
              "Walt Disney Studios Motion Pictures    82372.098598\n",
              "Warner Bros.                           63597.493931\n",
              "Name: World Sales (in $), dtype: float64"
            ]
          },
          "metadata": {},
          "execution_count": 25
        }
      ]
    },
    {
      "cell_type": "markdown",
      "source": [
        "## **Medidas de dispersão**"
      ],
      "metadata": {
        "id": "LxU4ZTGXVWTC"
      }
    },
    {
      "cell_type": "markdown",
      "source": [
        "Vamos verificar as medidas de disperção para o tempo de duração dos filmes."
      ],
      "metadata": {
        "id": "qgircEUjvt0e"
      }
    },
    {
      "cell_type": "code",
      "execution_count": 26,
      "metadata": {
        "id": "36_7C__KTRK7",
        "colab": {
          "base_uri": "https://localhost:8080/"
        },
        "outputId": "ebce5986-71dd-41f9-b388-3681592e627a"
      },
      "outputs": [
        {
          "output_type": "execute_result",
          "data": {
            "text/plain": [
              "0.12105443402504765"
            ]
          },
          "metadata": {},
          "execution_count": 26
        }
      ],
      "source": [
        "# variância\n",
        "data[\"Movie Runtime\"].var()"
      ]
    },
    {
      "cell_type": "code",
      "source": [
        "# desvio padrão\n",
        "data[\"Movie Runtime\"].std()"
      ],
      "metadata": {
        "id": "ly3xGMX9UGUe",
        "colab": {
          "base_uri": "https://localhost:8080/"
        },
        "outputId": "dd2501b8-8fe3-4984-f1fa-0c0ba8752914"
      },
      "execution_count": 27,
      "outputs": [
        {
          "output_type": "execute_result",
          "data": {
            "text/plain": [
              "0.3479287772304091"
            ]
          },
          "metadata": {},
          "execution_count": 27
        }
      ]
    },
    {
      "cell_type": "code",
      "source": [
        "# desvio médio absoluto\n",
        "data[\"Movie Runtime\"].mad()"
      ],
      "metadata": {
        "colab": {
          "base_uri": "https://localhost:8080/"
        },
        "id": "0PLgGOzps8Da",
        "outputId": "f8e2a5cc-68e1-44b4-baff-9719648e04fe"
      },
      "execution_count": 28,
      "outputs": [
        {
          "output_type": "execute_result",
          "data": {
            "text/plain": [
              "0.27727393547590895"
            ]
          },
          "metadata": {},
          "execution_count": 28
        }
      ]
    },
    {
      "cell_type": "markdown",
      "source": [
        "Vamos verificar a relação entre o valor arrecadado nacionalmente e internacionalmente."
      ],
      "metadata": {
        "id": "GdMROlixvgxH"
      }
    },
    {
      "cell_type": "code",
      "source": [
        "sns.scatterplot(data = data, x = 'Domestic Sales (in $)', y ='International Sales (in $)')\n",
        "plt.show()"
      ],
      "metadata": {
        "colab": {
          "base_uri": "https://localhost:8080/",
          "height": 279
        },
        "id": "fv_G5Tt1u4tH",
        "outputId": "968af470-ad77-4227-8a05-3dd6c16d244b"
      },
      "execution_count": 29,
      "outputs": [
        {
          "output_type": "display_data",
          "data": {
            "image/png": "[encoded data removed]",
            "text/plain": [
              "<Figure size 432x288 with 1 Axes>"
            ]
          },
          "metadata": {
            "needs_background": "light"
          }
        }
      ]
    },
    {
      "cell_type": "code",
      "source": [
        ""
      ],
      "metadata": {
        "id": "Mv_qrD_x3wm8"
      },
      "execution_count": 29,
      "outputs": []
    }
  ]
}